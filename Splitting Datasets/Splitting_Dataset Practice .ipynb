{
 "cells": [
  {
   "cell_type": "markdown",
   "metadata": {},
   "source": [
    "# Splitting of Dataset"
   ]
  },
  {
   "cell_type": "markdown",
   "metadata": {},
   "source": [
    "<h2> Importing Libraries </h2>"
   ]
  },
  {
   "cell_type": "code",
   "execution_count": 160,
   "metadata": {},
   "outputs": [],
   "source": [
    "import pandas as pd\n",
    "import numpy as np"
   ]
  },
  {
   "cell_type": "markdown",
   "metadata": {},
   "source": [
    "<h2> Importing Dataset </h2>"
   ]
  },
  {
   "cell_type": "code",
   "execution_count": 161,
   "metadata": {},
   "outputs": [],
   "source": [
    "df = pd.read_csv(\"encoded_salary_dataset.csv\")"
   ]
  },
  {
   "cell_type": "markdown",
   "metadata": {},
   "source": [
    "<h2> Dividing into Target and Predictor Variables </h2>"
   ]
  },
  {
   "cell_type": "code",
   "execution_count": 162,
   "metadata": {},
   "outputs": [],
   "source": [
    "X = df.iloc[:, :-1 ]\n",
    "y = df.iloc[:,-1]"
   ]
  },
  {
   "cell_type": "code",
   "execution_count": 163,
   "metadata": {},
   "outputs": [
    {
     "data": {
      "text/plain": [
       "(    Australia  Canada  Dubai  USA    Salary  YearsExperience\n",
       " 0         0.0     0.0    1.0  0.0   39343.0              1.1\n",
       " 1         0.0     1.0    0.0  0.0   46205.0              1.3\n",
       " 2         0.0     1.0    0.0  0.0   37731.0              1.5\n",
       " 3         0.0     1.0    0.0  0.0   43525.0              2.0\n",
       " 4         0.0     0.0    0.0  1.0   39891.0              2.2\n",
       " 5         0.0     0.0    1.0  0.0   56642.0              2.9\n",
       " 6         0.0     1.0    0.0  0.0   60150.0              3.0\n",
       " 7         1.0     0.0    0.0  0.0   54445.0              3.2\n",
       " 8         0.0     0.0    1.0  0.0   64445.0              3.2\n",
       " 9         0.0     0.0    1.0  0.0   57189.0              3.7\n",
       " 10        0.0     0.0    1.0  0.0   63218.0              3.9\n",
       " 11        0.0     0.0    0.0  1.0   55794.0              4.0\n",
       " 12        0.0     0.0    1.0  0.0   56957.0              4.0\n",
       " 13        0.0     1.0    0.0  0.0   57081.0              4.1\n",
       " 14        1.0     0.0    0.0  0.0   61111.0              4.5\n",
       " 15        0.0     0.0    0.0  1.0   67938.0              4.9\n",
       " 16        0.0     0.0    0.0  1.0   66029.0              5.1\n",
       " 17        0.0     1.0    0.0  0.0   83088.0              5.3\n",
       " 18        1.0     0.0    0.0  0.0   81363.0              5.9\n",
       " 19        0.0     1.0    0.0  0.0   93940.0              6.0\n",
       " 20        0.0     1.0    0.0  0.0   91738.0              6.8\n",
       " 21        1.0     0.0    0.0  0.0   98273.0              7.1\n",
       " 22        1.0     0.0    0.0  0.0  101302.0              7.9\n",
       " 23        1.0     0.0    0.0  0.0  113812.0              8.2\n",
       " 24        0.0     0.0    1.0  0.0  109431.0              8.7\n",
       " 25        1.0     0.0    0.0  0.0  105582.0              9.0\n",
       " 26        0.0     0.0    1.0  0.0  116969.0              9.5\n",
       " 27        0.0     0.0    0.0  1.0  112635.0              9.6\n",
       " 28        0.0     0.0    0.0  1.0  122391.0             10.3\n",
       " 29        0.0     1.0    0.0  0.0  121872.0             10.5,\n",
       " 0     0.0\n",
       " 1     1.0\n",
       " 2     0.0\n",
       " 3     0.0\n",
       " 4     0.0\n",
       " 5     0.0\n",
       " 6     1.0\n",
       " 7     0.0\n",
       " 8     1.0\n",
       " 9     0.0\n",
       " 10    1.0\n",
       " 11    0.0\n",
       " 12    1.0\n",
       " 13    0.0\n",
       " 14    0.0\n",
       " 15    0.0\n",
       " 16    0.0\n",
       " 17    0.0\n",
       " 18    1.0\n",
       " 19    0.0\n",
       " 20    0.0\n",
       " 21    0.0\n",
       " 22    0.0\n",
       " 23    1.0\n",
       " 24    0.0\n",
       " 25    1.0\n",
       " 26    0.0\n",
       " 27    1.0\n",
       " 28    0.0\n",
       " 29    1.0\n",
       " Name: Purchased, dtype: float64)"
      ]
     },
     "execution_count": 163,
     "metadata": {},
     "output_type": "execute_result"
    }
   ],
   "source": [
    "X,y"
   ]
  },
  {
   "cell_type": "markdown",
   "metadata": {},
   "source": [
    "<h2> Divide Data as Training Set and Testing Set </h2>"
   ]
  },
  {
   "cell_type": "code",
   "execution_count": 164,
   "metadata": {},
   "outputs": [],
   "source": [
    "from sklearn.model_selection import train_test_split\n",
    "\n",
    "X_train, X_test, y_train, y_test = train_test_split(X, y, test_size=0.3, random_state=42)"
   ]
  },
  {
   "cell_type": "code",
   "execution_count": 165,
   "metadata": {},
   "outputs": [
    {
     "data": {
      "text/plain": [
       "(    Australia  Canada  Dubai  USA    Salary  YearsExperience\n",
       " 27        0.0     0.0    0.0  1.0  112635.0              9.6\n",
       " 15        0.0     0.0    0.0  1.0   67938.0              4.9\n",
       " 23        1.0     0.0    0.0  0.0  113812.0              8.2\n",
       " 17        0.0     1.0    0.0  0.0   83088.0              5.3\n",
       " 8         0.0     0.0    1.0  0.0   64445.0              3.2\n",
       " 9         0.0     0.0    1.0  0.0   57189.0              3.7\n",
       " 28        0.0     0.0    0.0  1.0  122391.0             10.3\n",
       " 24        0.0     0.0    1.0  0.0  109431.0              8.7\n",
       " 12        0.0     0.0    1.0  0.0   56957.0              4.0,\n",
       "     Australia  Canada  Dubai  USA    Salary  YearsExperience\n",
       " 0         0.0     0.0    1.0  0.0   39343.0              1.1\n",
       " 4         0.0     0.0    0.0  1.0   39891.0              2.2\n",
       " 16        0.0     0.0    0.0  1.0   66029.0              5.1\n",
       " 5         0.0     0.0    1.0  0.0   56642.0              2.9\n",
       " 13        0.0     1.0    0.0  0.0   57081.0              4.1\n",
       " 11        0.0     0.0    0.0  1.0   55794.0              4.0\n",
       " 22        1.0     0.0    0.0  0.0  101302.0              7.9\n",
       " 1         0.0     1.0    0.0  0.0   46205.0              1.3\n",
       " 2         0.0     1.0    0.0  0.0   37731.0              1.5\n",
       " 25        1.0     0.0    0.0  0.0  105582.0              9.0\n",
       " 3         0.0     1.0    0.0  0.0   43525.0              2.0\n",
       " 21        1.0     0.0    0.0  0.0   98273.0              7.1\n",
       " 26        0.0     0.0    1.0  0.0  116969.0              9.5\n",
       " 18        1.0     0.0    0.0  0.0   81363.0              5.9\n",
       " 29        0.0     1.0    0.0  0.0  121872.0             10.5\n",
       " 20        0.0     1.0    0.0  0.0   91738.0              6.8\n",
       " 7         1.0     0.0    0.0  0.0   54445.0              3.2\n",
       " 10        0.0     0.0    1.0  0.0   63218.0              3.9\n",
       " 14        1.0     0.0    0.0  0.0   61111.0              4.5\n",
       " 19        0.0     1.0    0.0  0.0   93940.0              6.0\n",
       " 6         0.0     1.0    0.0  0.0   60150.0              3.0)"
      ]
     },
     "execution_count": 165,
     "metadata": {},
     "output_type": "execute_result"
    }
   ],
   "source": [
    "X_test,X_train"
   ]
  },
  {
   "cell_type": "code",
   "execution_count": 166,
   "metadata": {},
   "outputs": [
    {
     "data": {
      "text/plain": [
       "(0     0.0\n",
       " 4     0.0\n",
       " 16    0.0\n",
       " 5     0.0\n",
       " 13    0.0\n",
       " 11    0.0\n",
       " 22    0.0\n",
       " 1     1.0\n",
       " 2     0.0\n",
       " 25    1.0\n",
       " 3     0.0\n",
       " 21    0.0\n",
       " 26    0.0\n",
       " 18    1.0\n",
       " 29    1.0\n",
       " 20    0.0\n",
       " 7     0.0\n",
       " 10    1.0\n",
       " 14    0.0\n",
       " 19    0.0\n",
       " 6     1.0\n",
       " Name: Purchased, dtype: float64,\n",
       " 27    1.0\n",
       " 15    0.0\n",
       " 23    1.0\n",
       " 17    0.0\n",
       " 8     1.0\n",
       " 9     0.0\n",
       " 28    0.0\n",
       " 24    0.0\n",
       " 12    1.0\n",
       " Name: Purchased, dtype: float64)"
      ]
     },
     "execution_count": 166,
     "metadata": {},
     "output_type": "execute_result"
    }
   ],
   "source": [
    "y_train,y_test"
   ]
  }
 ],
 "metadata": {
  "kernelspec": {
   "display_name": "venv",
   "language": "python",
   "name": "python3"
  },
  "language_info": {
   "codemirror_mode": {
    "name": "ipython",
    "version": 3
   },
   "file_extension": ".py",
   "mimetype": "text/x-python",
   "name": "python",
   "nbconvert_exporter": "python",
   "pygments_lexer": "ipython3",
   "version": "3.13.2"
  }
 },
 "nbformat": 4,
 "nbformat_minor": 4
}
